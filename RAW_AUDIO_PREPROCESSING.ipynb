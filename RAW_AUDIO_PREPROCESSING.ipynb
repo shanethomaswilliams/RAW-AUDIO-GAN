{
 "cells": [
  {
   "cell_type": "code",
   "execution_count": 1,
   "metadata": {},
   "outputs": [],
   "source": [
    "import os\n",
    "import pickle\n",
    "from glob import iglob\n",
    "import numpy as np\n",
    "import librosa"
   ]
  },
  {
   "cell_type": "code",
   "execution_count": 2,
   "metadata": {},
   "outputs": [],
   "source": [
    "DATA_AUDIO_DIR = './heartbeat_data'\n",
    "TARGET_SR = 8000\n",
    "OUTPUT_DIR = './output'\n",
    "OUTPUT_DIR_TRAIN = os.path.join(OUTPUT_DIR, 'train')\n",
    "OUTPUT_DIR_TEST = os.path.join(OUTPUT_DIR, 'test')\n",
    "AUDIO_LENGTH = 10000"
   ]
  },
  {
   "cell_type": "code",
   "execution_count": 3,
   "metadata": {},
   "outputs": [],
   "source": [
    "class_ids = {\n",
    "    'normal': 0,\n",
    "    'mumur': 1,\n",
    "    'extrahls': 2,\n",
    "    'artifact': 3,\n",
    "    'unlabelled': 4,\n",
    "}"
   ]
  },
  {
   "cell_type": "code",
   "execution_count": 5,
   "metadata": {},
   "outputs": [],
   "source": [
    "def extract_class_id(wav_filename):\n",
    "    if 'normal' in wav_filename:\n",
    "        return class_ids.get('normal')\n",
    "    elif 'murmur' in wav_filename:\n",
    "        return class_ids.get('murmur')\n",
    "    elif 'extrahls' in wav_filename:\n",
    "        return class_ids.get('extrahls')\n",
    "    elif 'artifact' in wav_filename:\n",
    "        return class_ids.get('artifact')\n",
    "    elif 'unlabelled' in wav_filename:\n",
    "        return class_ids.get('unlabelled')\n",
    "    else:\n",
    "        return class_ids.get('unlabelled')"
   ]
  },
  {
   "cell_type": "code",
   "execution_count": 13,
   "metadata": {},
   "outputs": [],
   "source": [
    "def read_audio_from_filename(filename, target_sr):\n",
    "    audio,_ = librosa.load(filename, sr=target_sr, mono=True)\n",
    "    audio = audio.reshape(-1, 1)\n",
    "    return audio"
   ]
  },
  {
   "cell_type": "code",
   "execution_count": 16,
   "metadata": {},
   "outputs": [],
   "source": [
    "def convert_data():\n",
    "    for i, wav_filename in enumerate(iglob(os.path.join(DATA_AUDIO_DIR, '**/**.wav'), recursive=True)):\n",
    "        class_id = extract_class_id(wav_filename)\n",
    "        audio_buf = read_audio_from_filename(wav_filename, target_sr=TARGET_SR)\n",
    "        # nomralize mean 0, variance 1\n",
    "        audio_buf = (audio_buf - np.mean(audio_buf)) / np.std(audio_buf)\n",
    "        original_length = len(audio_buf)\n",
    "        print(i, wav_filename, original_length, np.round(np.mean(audio_buf), 4), np.std(audio_buf))\n",
    "        if original_length < AUDIO_LENGTH:\n",
    "            audio_buf = np.concatenate((audio_buf, np.zeros(shape=(AUDIO_LENGTH - original))))\n",
    "            print('PAD New Length = ', len(audio_buf))\n",
    "        elif original_length > AUDIO_LENGTH:\n",
    "            audio_buf = audio_buf[0:AUDIO_LENGTH]\n",
    "            print('CUT New length = ', len(audio_buf))\n",
    "            \n",
    "        output_folder = OUTPUT_DIR_TRAIN\n",
    "        if i // 50 == 0:\n",
    "            output_folder = OUTPUT_DIR_TEST\n",
    "        \n",
    "        output_filename = os.path.join(output_folder, str(i) + \".pkl\")\n",
    "        out = {\n",
    "            'class_id': class_id,\n",
    "            'audio': audio_buf,\n",
    "            'sr': TARGET_SR\n",
    "        }\n",
    "        print(out)\n",
    "        with open(output_filename, 'wb') as w:\n",
    "            pickle.dump(out, w)"
   ]
  },
  {
   "cell_type": "code",
   "execution_count": 17,
   "metadata": {},
   "outputs": [
    {
     "name": "stdout",
     "output_type": "stream",
     "text": [
      "0 ./heartbeat_data/set_a/murmur__201101180902.wav 64276 0.0 1.0\n",
      "CUT New length =  10000\n",
      "{'class_id': None, 'audio': array([[-0.3388304 ],\n",
      "       [-0.6199059 ],\n",
      "       [-0.5296698 ],\n",
      "       ...,\n",
      "       [-0.4140227 ],\n",
      "       [-0.40245813],\n",
      "       [-0.39387414]], dtype=float32), 'sr': 8000}\n"
     ]
    },
    {
     "ename": "FileNotFoundError",
     "evalue": "[Errno 2] No such file or directory: './output/test/0.pkl'",
     "output_type": "error",
     "traceback": [
      "\u001b[0;31m---------------------------------------------------------------------------\u001b[0m",
      "\u001b[0;31mFileNotFoundError\u001b[0m                         Traceback (most recent call last)",
      "\u001b[0;32m<ipython-input-17-7de632818880>\u001b[0m in \u001b[0;36m<module>\u001b[0;34m\u001b[0m\n\u001b[0;32m----> 1\u001b[0;31m \u001b[0mconvert_data\u001b[0m\u001b[0;34m(\u001b[0m\u001b[0;34m)\u001b[0m\u001b[0;34m\u001b[0m\u001b[0;34m\u001b[0m\u001b[0m\n\u001b[0m",
      "\u001b[0;32m<ipython-input-16-5c64e2620fdd>\u001b[0m in \u001b[0;36mconvert_data\u001b[0;34m()\u001b[0m\n\u001b[1;32m     25\u001b[0m         }\n\u001b[1;32m     26\u001b[0m         \u001b[0mprint\u001b[0m\u001b[0;34m(\u001b[0m\u001b[0mout\u001b[0m\u001b[0;34m)\u001b[0m\u001b[0;34m\u001b[0m\u001b[0;34m\u001b[0m\u001b[0m\n\u001b[0;32m---> 27\u001b[0;31m         \u001b[0;32mwith\u001b[0m \u001b[0mopen\u001b[0m\u001b[0;34m(\u001b[0m\u001b[0moutput_filename\u001b[0m\u001b[0;34m,\u001b[0m \u001b[0;34m'wb'\u001b[0m\u001b[0;34m)\u001b[0m \u001b[0;32mas\u001b[0m \u001b[0mw\u001b[0m\u001b[0;34m:\u001b[0m\u001b[0;34m\u001b[0m\u001b[0;34m\u001b[0m\u001b[0m\n\u001b[0m\u001b[1;32m     28\u001b[0m             \u001b[0mpickle\u001b[0m\u001b[0;34m.\u001b[0m\u001b[0mdump\u001b[0m\u001b[0;34m(\u001b[0m\u001b[0mout\u001b[0m\u001b[0;34m,\u001b[0m \u001b[0mw\u001b[0m\u001b[0;34m)\u001b[0m\u001b[0;34m\u001b[0m\u001b[0;34m\u001b[0m\u001b[0m\n",
      "\u001b[0;31mFileNotFoundError\u001b[0m: [Errno 2] No such file or directory: './output/test/0.pkl'"
     ]
    }
   ],
   "source": [
    "convert_data()"
   ]
  },
  {
   "cell_type": "code",
   "execution_count": null,
   "metadata": {},
   "outputs": [],
   "source": []
  }
 ],
 "metadata": {
  "kernelspec": {
   "display_name": "Python 3",
   "language": "python",
   "name": "python3"
  },
  "language_info": {
   "codemirror_mode": {
    "name": "ipython",
    "version": 3
   },
   "file_extension": ".py",
   "mimetype": "text/x-python",
   "name": "python",
   "nbconvert_exporter": "python",
   "pygments_lexer": "ipython3",
   "version": "3.7.9"
  }
 },
 "nbformat": 4,
 "nbformat_minor": 4
}
